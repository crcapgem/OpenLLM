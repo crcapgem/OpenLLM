{
 "cells": [
  {
   "cell_type": "markdown",
   "metadata": {},
   "source": [
    "## Simulating Datasets Using Probabilistic Methods"
   ]
  },
  {
   "cell_type": "code",
   "execution_count": 2,
   "metadata": {},
   "outputs": [],
   "source": [
    "import numpy as np\n",
    "import pandas as pd\n",
    "import seaborn as sns \n",
    "import matplotlib.pyplot as plt\n",
    "import os "
   ]
  },
  {
   "cell_type": "code",
   "execution_count": 3,
   "metadata": {},
   "outputs": [
    {
     "data": {
      "text/plain": [
       "(1000,)"
      ]
     },
     "execution_count": 3,
     "metadata": {},
     "output_type": "execute_result"
    }
   ],
   "source": [
    "# Gaussian (Normal) Distribution for Health Index\n",
    "# Assume average Index of 70, std of 15\n",
    "health_index = np.random.normal(loc=70, scale=15, size=1000)  \n",
    "health_index.shape"
   ]
  },
  {
   "cell_type": "code",
   "execution_count": 4,
   "metadata": {},
   "outputs": [],
   "source": [
    "# Simulating Gas Concentrations Using Empirical Rules\n",
    "# For dissolved gas analysis, certain patterns of gas levels and ratios are indicative of different faults. \n",
    "# Assuming ranges for gas concentrations in ppm for normal operation\n",
    "\n",
    "# Assume H2, CH4 normal concentration and C2H2 (higher in arcing faults)\n",
    "hydrogen = np.random.normal(loc=50, scale=20, size=1000)   \n",
    "methane = np.random.normal(loc=30, scale=10, size=1000)\n",
    "acetylene = np.random.normal(loc=5, scale=3, size=1000) \n"
   ]
  },
  {
   "cell_type": "code",
   "execution_count": 5,
   "metadata": {},
   "outputs": [
    {
     "data": {
      "text/plain": [
       "array([[51.63142892, 35.83299631,  7.13662435],\n",
       "       [38.84453953, 23.833003  ,  3.52809049],\n",
       "       [44.21321325, 27.6802383 ,  0.93803572],\n",
       "       ...,\n",
       "       [51.83197543, 32.07425467,  8.31482221],\n",
       "       [39.95699775, 32.82941356,  7.97854191],\n",
       "       [45.85993596, 29.35109717,  5.38158306]])"
      ]
     },
     "execution_count": 5,
     "metadata": {},
     "output_type": "execute_result"
    }
   ],
   "source": [
    "# Correlations Between Features\n",
    "# Use covariance matrices to simulate correlated variables like gas ratios.\n",
    "# Simulate correlations between gases during a fault (e.g., high acetylene (C₂H₂) might correlate with higher ethylene (C₂H₄) during arcing)\n",
    "# Mean values for H2, CH4, and C2H2\n",
    "mean = [50, 30, 5]  \n",
    "# Correlations between gases\n",
    "cov_matrix = [[100, 40, 10], [40, 30, 5], [10, 5, 8]]  \n",
    "gas_data = np.random.multivariate_normal(mean, cov_matrix, 1000)\n",
    "gas_data"
   ]
  },
  {
   "cell_type": "code",
   "execution_count": 9,
   "metadata": {},
   "outputs": [
    {
     "data": {
      "text/plain": [
       "(1000,)"
      ]
     },
     "execution_count": 9,
     "metadata": {},
     "output_type": "execute_result"
    }
   ],
   "source": [
    "# Simulating Operational Data\n",
    "# Temperature and Load Cycles\n",
    "# Simulate temperature and load data using sinusoidal functions to represent daily or seasonal fluctuations.\n",
    "import numpy as np\n",
    "time = np.arange(0, 1000, 1)  \n",
    " # Seasonal temperature variation\n",
    "temperature = 30 + 10 * np.sin(2 * np.pi * time / 365) \n",
    "# Daily load (KW) fluctuation by time\n",
    "load = 50 + 20 * np.sin(2 * np.pi * time / 24) "
   ]
  },
  {
   "cell_type": "code",
   "execution_count": 11,
   "metadata": {},
   "outputs": [
    {
     "name": "stdout",
     "output_type": "stream",
     "text": [
      "             0\n",
      "0    50.000000\n",
      "1    55.176381\n",
      "2    60.000000\n",
      "3    64.142136\n",
      "4    67.320508\n",
      "..         ...\n",
      "995  55.176381\n",
      "996  50.000000\n",
      "997  44.823619\n",
      "998  40.000000\n",
      "999  35.857864\n",
      "\n",
      "[1000 rows x 1 columns]\n"
     ]
    }
   ],
   "source": [
    "load.shape\n",
    "load = pd.DataFrame(load)\n"
   ]
  }
 ],
 "metadata": {
  "kernelspec": {
   "display_name": "Python 3",
   "language": "python",
   "name": "python3"
  },
  "language_info": {
   "codemirror_mode": {
    "name": "ipython",
    "version": 3
   },
   "file_extension": ".py",
   "mimetype": "text/x-python",
   "name": "python",
   "nbconvert_exporter": "python",
   "pygments_lexer": "ipython3",
   "version": "3.12.1"
  }
 },
 "nbformat": 4,
 "nbformat_minor": 2
}
