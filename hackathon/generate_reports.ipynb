{
 "cells": [
  {
   "cell_type": "code",
   "execution_count": 2,
   "metadata": {},
   "outputs": [],
   "source": [
    "import bentoml\n",
    "from bentoml.io import JSON, Text\n",
    "import pandas as pd\n",
    "import random\n",
    "import numpy as np\n",
    "import requests\n",
    "import json"
   ]
  },
  {
   "cell_type": "code",
   "execution_count": 5,
   "metadata": {},
   "outputs": [],
   "source": [
    "# Load input CSV file to analyze its content\n",
    "file_path = 'failure_data/health_index_augdata.csv'\n",
    "health_index_data = pd.read_csv(file_path)"
   ]
  },
  {
   "cell_type": "code",
   "execution_count": 10,
   "metadata": {},
   "outputs": [
    {
     "name": "stdout",
     "output_type": "stream",
     "text": [
      "{\"Hydrogen\":12886,\"Oxigen\":61,\"Nitrogen\":25041,\"Methane\":877,\"CO\":83,\"CO2\":864,\"Ethylene\":4,\"Ethane\":305,\"Acethylene\":0,\"DBDS\":45.0,\"Power factor\":1.0,\"Interfacial V\":45,\"Dielectric rigidity\":55,\"Water content\":0,\"Health index\":85.5,\"Life expectation\":19.0,\"CO_H2_ratio\":0.0064410989,\"CH4_H2_ratio\":0.0680583579,\"C2H4_H2_ratio\":0.0003104144,\"C2H2_H2_ratio\":0.0,\"H2_N2_ratio\":0.5145960625,\"O2_N2_ratio\":0.002436005,\"H2_CO2_ratio\":14.9143518519,\"TransformerID\":\"TX-9069\",\"InstallationDate\":\"2005-10-02\",\"MaintenanceSchedule\":\"2021-03-20\",\"ReplacementHistory\":\"Replaced major components\",\"MaintenanceID\":\"MNT-24761\",\"MaintenanceType\":\"Emergency Maintenance\",\"MaintenanceDate\":\"2023-01-29\",\"TransformerLoad\":616.567279246,\"Temperature\":74.5384218405,\"Vibration\":5.550855378,\"Humidity\":44.3397911476,\"Precipitation\":20.2657668926,\"Alerts\":null,\"IncidentType\":\"Storm\",\"IncidentDetails\":\"Severe weather affecting transformer\",\"OperationID\":\"OP-7106\",\"OperatingTime\":38.3200938304,\"LoadCondition\":\"Normal Load\",\"PerformanceMetrics\":\"Performance stable with a load of 616.5672792460182 KW and temperature 74.53842184051585\\u00b0C\"}\n"
     ]
    }
   ],
   "source": [
    "json_string = health_index_data.iloc[1].to_json()\n",
    "print(json_string)"
   ]
  },
  {
   "cell_type": "code",
   "execution_count": 32,
   "metadata": {},
   "outputs": [
    {
     "name": "stdout",
     "output_type": "stream",
     "text": [
      "   Hydrogen  Oxigen  Nitrogen  Methane  CO  CO2  Ethylene  Ethane  Acethylene  \\\n",
      "0     12886      61     25041      877  83  864         4     305           0   \n",
      "\n",
      "   DBDS  ...  Vibration   Humidity  Precipitation  Alerts  IncidentType  \\\n",
      "0  45.0  ...   5.550855  44.339791      20.265767    None         Storm   \n",
      "\n",
      "                        IncidentDetails  OperationID  OperatingTime  \\\n",
      "0  Severe weather affecting transformer      OP-7106      38.320094   \n",
      "\n",
      "   LoadCondition                                 PerformanceMetrics  \n",
      "0    Normal Load  Performance stable with a load of 616.56727924...  \n",
      "\n",
      "[1 rows x 42 columns]\n"
     ]
    }
   ],
   "source": [
    " # Convert input JSON data into a pandas DataFrame (for compatibility)\n",
    "df = json.loads(json_string)\n",
    "# create a pandas DataFrame from the dictionary\n",
    "input_data = pd.DataFrame([df])\n",
    "# print the DataFrame\n",
    "print(input_data)"
   ]
  },
  {
   "cell_type": "code",
   "execution_count": 33,
   "metadata": {},
   "outputs": [
    {
     "name": "stdout",
     "output_type": "stream",
     "text": [
      "2021-03-20\n",
      "Index(['Hydrogen', 'Oxigen', 'Nitrogen', 'Methane', 'CO', 'CO2', 'Ethylene',\n",
      "       'Ethane', 'Acethylene', 'DBDS', 'Power factor', 'Interfacial V',\n",
      "       'Dielectric rigidity', 'Water content', 'Health index',\n",
      "       'Life expectation', 'CO_H2_ratio', 'CH4_H2_ratio', 'C2H4_H2_ratio',\n",
      "       'C2H2_H2_ratio', 'H2_N2_ratio', 'O2_N2_ratio', 'H2_CO2_ratio',\n",
      "       'TransformerID', 'InstallationDate', 'MaintenanceSchedule',\n",
      "       'ReplacementHistory', 'MaintenanceID', 'MaintenanceType',\n",
      "       'MaintenanceDate', 'TransformerLoad', 'Temperature', 'Vibration',\n",
      "       'Humidity', 'Precipitation', 'Alerts', 'IncidentType',\n",
      "       'IncidentDetails', 'OperationID', 'OperatingTime', 'LoadCondition',\n",
      "       'PerformanceMetrics'],\n",
      "      dtype='object')\n"
     ]
    }
   ],
   "source": [
    "print(input_data.get('MaintenanceSchedule', 'N/A')[0])\n",
    "print(input_data.columns)"
   ]
  },
  {
   "cell_type": "code",
   "execution_count": 34,
   "metadata": {},
   "outputs": [
    {
     "name": "stdout",
     "output_type": "stream",
     "text": [
      "\n",
      "Transformer ID: TX-9069\n",
      "InstallationDate: 2005-10-02\n",
      "OperatingTime: 38.3200938304\n",
      "LoadCondition: Normal Load\n",
      "PerformanceMetrics: Performance stable with a load of 616.5672792460182 KW and temperature 74.53842184051585°C\n",
      "\n",
      "Condition Summary:\n",
      "Health Index: 85.5\n",
      "Predicted Remaining Life Expectancy: 19.0 years\n",
      "Based on the current dissolved gas analysis (DGA) and health index data, this transformer is \n",
      "expected to last an additional 19.0 years. \n",
      "\n",
      "Specific gases dissolved in the transformer's insulating oil, could help identify potential faults or degradation. Current levels are:\n",
      "- Hydrogen: 12886\n",
      "- Oxygen: 61\n",
      "- Nitrogen: 25041\n",
      "- Methane: 877\n",
      "- CO: 83\n",
      "- CO2: 864\n",
      "- Ethylene: 4\n",
      "- Ethane: 305\n",
      "- Acethylene: 0\n",
      "- DBDS: 45.0\n",
      "\n",
      "Other Key indicators suggest that:\n",
      "- Power factor: 1.0\n",
      "- Interfacial V: 45\n",
      "- Dielectric rigidity: 55\n",
      "- Water content: 0\n",
      "\n",
      "Calculated Gas ratios are:\n",
      "- Carbon Monoxide to Hydrogen Ratio: 0.0064410989\n",
      "- Methane to Hydrogen Ratio: 0.0680583579\n",
      "- Ethylene to Hydrogen Ratio: 0.0003104144\n",
      "- Acetylene to Hydrogen Ratio: 0.0\n",
      "\n",
      "Maintenance Information:\n",
      "- Maintenance ID: MNT-24761\n",
      "- Maintenance Type: Emergency Maintenance \n",
      "- Last Maintenance Date: 2023-01-29\n",
      "- ReplacementHistory: Replaced major components\n",
      "\n",
      "Environmental and Operational Factors:\n",
      "- Transformer Load (KW): 616.567279246\n",
      "- Temperature (Celsius): 74.5384218405\n",
      "- Humidity (%): 44.3397911476\n",
      "- Vibration Level: 5.550855378\n",
      "- Precipitation Level: 20.2657668926\n",
      "\n",
      "Alerts & Incidents:\n",
      "- Alerts: None\n",
      "- Incident Type: Storm\n",
      "- Incident Details: Severe weather affecting transformer\n",
      "\n",
      "Create a Maintenance Recommendation:\n",
      "Based on the DGA values, Other Key indicators, performance metrics, Environmental and Operational Factors and Maintenance Information create best plan of maintenance to monitor risk and prevent failure.\n",
      "\n"
     ]
    }
   ],
   "source": [
    "# Generate a text-based report using only input data\n",
    "report = f\"\"\"\n",
    "Transformer ID: {input_data['TransformerID'].iloc[0]}\n",
    "InstallationDate: {input_data['InstallationDate'].iloc[0]}\n",
    "OperatingTime: {input_data['OperatingTime'].iloc[0]}\n",
    "LoadCondition: {input_data['LoadCondition'].iloc[0]}\n",
    "PerformanceMetrics: {input_data['PerformanceMetrics'].iloc[0]}\n",
    "\n",
    "Condition Summary:\n",
    "Health Index: {input_data['Health index'].iloc[0]}\n",
    "Predicted Remaining Life Expectancy: {input_data['Life expectation'].iloc[0]} years\n",
    "Based on the current dissolved gas analysis (DGA) and health index data, this transformer is \n",
    "expected to last an additional {input_data['Life expectation'].iloc[0]} years. \n",
    "\n",
    "Specific gases dissolved in the transformer's insulating oil, could help identify potential faults or degradation. Current levels are:\n",
    "- Hydrogen: {input_data['Hydrogen'].iloc[0]}\n",
    "- Oxygen: {input_data['Oxigen'].iloc[0]}\n",
    "- Nitrogen: {input_data['Nitrogen'].iloc[0]}\n",
    "- Methane: {input_data['Methane'].iloc[0]}\n",
    "- CO: {input_data['CO'].iloc[0]}\n",
    "- CO2: {input_data['CO2'].iloc[0]}\n",
    "- Ethylene: {input_data['Ethylene'].iloc[0]}\n",
    "- Ethane: {input_data['Ethane'].iloc[0]}\n",
    "- Acethylene: {input_data['Acethylene'].iloc[0]}\n",
    "- DBDS: {input_data['DBDS'].iloc[0]}\n",
    "\n",
    "Other Key indicators suggest that:\n",
    "- Power factor: {input_data['Power factor'].iloc[0]}\n",
    "- Interfacial V: {input_data['Interfacial V'].iloc[0]}\n",
    "- Dielectric rigidity: {input_data['Dielectric rigidity'].iloc[0]}\n",
    "- Water content: {input_data['Water content'].iloc[0]}\n",
    "\n",
    "Calculated Gas ratios are:\n",
    "- Carbon Monoxide to Hydrogen Ratio: {input_data['CO_H2_ratio'].iloc[0]}\n",
    "- Methane to Hydrogen Ratio: {input_data['CH4_H2_ratio'].iloc[0]}\n",
    "- Ethylene to Hydrogen Ratio: {input_data['C2H4_H2_ratio'].iloc[0]}\n",
    "- Acetylene to Hydrogen Ratio: {input_data['C2H2_H2_ratio'].iloc[0]}\n",
    "\n",
    "Maintenance Information:\n",
    "- Maintenance ID: {input_data['MaintenanceID'].iloc[0]}\n",
    "- Maintenance Type: {input_data['MaintenanceType'].iloc[0]} \n",
    "- Last Maintenance Date: {input_data.get('MaintenanceDate', 'N/A')[0]}\n",
    "- ReplacementHistory: {input_data.get('ReplacementHistory', 'N/A')[0]}\n",
    "\n",
    "Environmental and Operational Factors:\n",
    "- Transformer Load (KW): {input_data.get('TransformerLoad', 'N/A')[0]}\n",
    "- Temperature (Celsius): {input_data.get('Temperature', 'N/A')[0]}\n",
    "- Humidity (%): {input_data.get('Humidity', 'N/A')[0]}\n",
    "- Vibration Level: {input_data.get('Vibration', 'N/A')[0]}\n",
    "- Precipitation Level: {input_data.get('Precipitation', 'N/A')[0]}\n",
    "\n",
    "Alerts & Incidents:\n",
    "- Alerts: {input_data.get('Alerts', 'None')[0]}\n",
    "- Incident Type: {input_data.get('IncidentType', 'None')[0]}\n",
    "- Incident Details: {input_data.get('IncidentDetails', 'None')[0]}\n",
    "\n",
    "Create a Maintenance Recommendation:\n",
    "Based on the DGA values, Other Key indicators, performance metrics, Environmental and Operational Factors and Maintenance Information create best plan of maintenance to monitor risk and prevent failure.\n",
    "\"\"\"\n",
    "\n",
    "print(report)"
   ]
  },
  {
   "cell_type": "code",
   "execution_count": 37,
   "metadata": {},
   "outputs": [
    {
     "name": "stdout",
     "output_type": "stream",
     "text": [
      " The transformer is expected to last an additional 19.0 years . The current dissolved gas analysis (DGA) and health index data suggest that the transformer is stable with a load of 616.567279246 KW and temperature 74.53842184051585°C . Specific gases dissolved in the transformer's insulating oil, could help identify potential faults .\n"
     ]
    }
   ],
   "source": [
    "with bentoml.SyncHTTPClient(\"http://localhost:3000\") as client:\n",
    "    result = client.summarize(\n",
    "        json_string=health_index_data.iloc[1].to_json()\n",
    "    )\n",
    "\n",
    "print(result)"
   ]
  }
 ],
 "metadata": {
  "kernelspec": {
   "display_name": "Python 3",
   "language": "python",
   "name": "python3"
  },
  "language_info": {
   "codemirror_mode": {
    "name": "ipython",
    "version": 3
   },
   "file_extension": ".py",
   "mimetype": "text/x-python",
   "name": "python",
   "nbconvert_exporter": "python",
   "pygments_lexer": "ipython3",
   "version": "3.12.1"
  }
 },
 "nbformat": 4,
 "nbformat_minor": 2
}
