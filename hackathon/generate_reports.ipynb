{
 "cells": [
  {
   "cell_type": "code",
   "execution_count": 259,
   "metadata": {},
   "outputs": [],
   "source": [
    "import bentoml\n",
    "from bentoml.io import JSON, Text\n",
    "import pandas as pd\n",
    "import random\n",
    "import numpy as np\n",
    "import requests\n",
    "import json"
   ]
  },
  {
   "cell_type": "code",
   "execution_count": 260,
   "metadata": {},
   "outputs": [],
   "source": [
    "# Load input CSV file to analyze its content\n",
    "file_path = 'failure_data/health_index_augdata.csv'\n",
    "health_index_data = pd.read_csv(file_path)"
   ]
  },
  {
   "cell_type": "code",
   "execution_count": 261,
   "metadata": {},
   "outputs": [
    {
     "name": "stdout",
     "output_type": "stream",
     "text": [
      "Hydrogen                                                            9040\n",
      "Oxigen                                                              1870\n",
      "Nitrogen                                                           47500\n",
      "Methane                                                             1790\n",
      "CO                                                                   183\n",
      "CO2                                                                 2060\n",
      "Ethylene                                                            7820\n",
      "Ethane                                                               638\n",
      "Acethylene                                                          1450\n",
      "DBDS                                                                 0.0\n",
      "Power factor                                                         1.0\n",
      "Interfacial V                                                         42\n",
      "Dielectric rigidity                                                   55\n",
      "Water content                                                         18\n",
      "Health index                                                        60.5\n",
      "Life expectation                                                    19.0\n",
      "CO_H2_ratio                                                     0.020243\n",
      "CH4_H2_ratio                                                    0.198009\n",
      "C2H4_H2_ratio                                                   0.865044\n",
      "C2H2_H2_ratio                                                   0.160398\n",
      "H2_N2_ratio                                                     0.190316\n",
      "O2_N2_ratio                                                     0.039368\n",
      "H2_CO2_ratio                                                     4.38835\n",
      "TransformerID                                                    TX-8395\n",
      "InstallationDate                                              2004-10-09\n",
      "MaintenanceSchedule                                           2023-04-20\n",
      "ReplacementHistory                                 No major replacements\n",
      "MaintenanceID                                                  MNT-61000\n",
      "MaintenanceType                                   Corrective Maintenance\n",
      "MaintenanceDate                                               2023-12-21\n",
      "TransformerLoad                                               223.961307\n",
      "Temperature                                                    52.760664\n",
      "Vibration                                                       4.995085\n",
      "Humidity                                                       41.023144\n",
      "Precipitation                                                  37.146516\n",
      "Alerts                                                               NaN\n",
      "IncidentType                                                         NaN\n",
      "IncidentDetails                                             No incidents\n",
      "OperationID                                                      OP-7963\n",
      "OperatingTime                                                  34.790777\n",
      "LoadCondition                                                Normal Load\n",
      "PerformanceMetrics     Performance stable with a load of 223.96130729...\n",
      "Name: 14, dtype: object\n"
     ]
    }
   ],
   "source": [
    "print(health_index_data.iloc[14])"
   ]
  },
  {
   "cell_type": "code",
   "execution_count": 262,
   "metadata": {},
   "outputs": [
    {
     "name": "stdout",
     "output_type": "stream",
     "text": [
      "{\"Hydrogen\":9040,\"Oxigen\":1870,\"Nitrogen\":47500,\"Methane\":1790,\"CO\":183,\"CO2\":2060,\"Ethylene\":7820,\"Ethane\":638,\"Acethylene\":1450,\"DBDS\":0.0,\"Power factor\":1.0,\"Interfacial V\":42,\"Dielectric rigidity\":55,\"Water content\":18,\"Health index\":60.5,\"Life expectation\":19.0,\"CO_H2_ratio\":0.0202433628,\"CH4_H2_ratio\":0.1980088496,\"C2H4_H2_ratio\":0.8650442478,\"C2H2_H2_ratio\":0.1603982301,\"H2_N2_ratio\":0.1903157895,\"O2_N2_ratio\":0.0393684211,\"H2_CO2_ratio\":4.3883495146,\"TransformerID\":\"TX-8395\",\"InstallationDate\":\"2004-10-09\",\"MaintenanceSchedule\":\"2023-04-20\",\"ReplacementHistory\":\"No major replacements\",\"MaintenanceID\":\"MNT-61000\",\"MaintenanceType\":\"Corrective Maintenance\",\"MaintenanceDate\":\"2023-12-21\",\"TransformerLoad\":223.9613072983,\"Temperature\":52.7606643498,\"Vibration\":4.9950850466,\"Humidity\":41.0231441246,\"Precipitation\":37.1465164135,\"Alerts\":null,\"IncidentType\":null,\"IncidentDetails\":\"No incidents\",\"OperationID\":\"OP-7963\",\"OperatingTime\":34.7907773926,\"LoadCondition\":\"Normal Load\",\"PerformanceMetrics\":\"Performance stable with a load of 223.96130729828337 KW and temperature 52.76066434980563\\u00b0C\"}\n"
     ]
    }
   ],
   "source": [
    "json_string = health_index_data.iloc[14].to_json()\n",
    "print(json_string)"
   ]
  },
  {
   "cell_type": "code",
   "execution_count": 263,
   "metadata": {},
   "outputs": [
    {
     "name": "stdout",
     "output_type": "stream",
     "text": [
      "   Hydrogen  Oxigen  Nitrogen  Methane   CO   CO2  Ethylene  Ethane  \\\n",
      "0      9040    1870     47500     1790  183  2060      7820     638   \n",
      "\n",
      "   Acethylene  DBDS  ...  Vibration   Humidity  Precipitation  Alerts  \\\n",
      "0        1450   0.0  ...   4.995085  41.023144      37.146516    None   \n",
      "\n",
      "   IncidentType  IncidentDetails  OperationID  OperatingTime  LoadCondition  \\\n",
      "0          None     No incidents      OP-7963      34.790777    Normal Load   \n",
      "\n",
      "                                  PerformanceMetrics  \n",
      "0  Performance stable with a load of 223.96130729...  \n",
      "\n",
      "[1 rows x 42 columns]\n"
     ]
    }
   ],
   "source": [
    " # Convert input JSON data into a pandas DataFrame (for compatibility)\n",
    "input_df_test = json.loads(json_string)\n",
    "# create a pandas DataFrame from the dictionary\n",
    "input_data = pd.DataFrame([input_df_test])\n",
    "# print the DataFrame\n",
    "print(input_data)"
   ]
  },
  {
   "cell_type": "code",
   "execution_count": 264,
   "metadata": {},
   "outputs": [
    {
     "name": "stdout",
     "output_type": "stream",
     "text": [
      "\n",
      "    Transformer ID: TX-8395\n",
      "    InstallationDate: 2004-10-09\n",
      "    OperatingTime: 34.7907773926\n",
      "    LoadCondition: Normal Load\n",
      "    PerformanceMetrics: Performance stable with a load of 223.96130729828337 KW and temperature 52.76066434980563°C\n",
      "\n",
      "    Condition Summary:\n",
      "    Health Index: 60.5\n",
      "    Predicted Remaining Life Expectancy: 19.0 years\n",
      "    Based on the current dissolved gas analysis (DGA) and health index data, this transformer is \n",
      "    expected to last an additional 19.0 years. \n",
      "\n",
      "    Specific gases dissolved in the transformer insulating oil, could help identify potential faults or degradation. Current levels are:\n",
      "    - Hydrogen: 9040\n",
      "    - Oxygen: 1870\n",
      "    - Nitrogen: 47500\n",
      "    - Methane: 1790\n",
      "    - CO: 183\n",
      "    - CO2: 2060\n",
      "    - Ethylene: 7820\n",
      "    - Ethane: 638\n",
      "    - Acethylene: 1450\n",
      "    - DBDS: 0.0\n",
      "\n",
      "    Other Key indicators suggest that:\n",
      "    - Power factor: 1.0\n",
      "    - Interfacial V: 42\n",
      "    - Dielectric rigidity: 55\n",
      "    - Water content: 18\n",
      "\n",
      "    Calculated Gas ratios are:\n",
      "    - Carbon Monoxide to Hydrogen Ratio: 0.0202433628\n",
      "    - Methane to Hydrogen Ratio: 0.1980088496\n",
      "    - Ethylene to Hydrogen Ratio: 0.8650442478\n",
      "    - Acetylene to Hydrogen Ratio: 0.1603982301\n",
      "\n",
      "    Maintenance Information:\n",
      "    - Maintenance ID: MNT-61000\n",
      "    - Maintenance Type: Corrective Maintenance \n",
      "    - Last Maintenance Date: 2023-12-21\n",
      "    - ReplacementHistory: No major replacements\n",
      "\n",
      "    Environmental and Operational Factors:\n",
      "    - Transformer Load (KW): 223.9613072983\n",
      "    - Temperature (Celsius): 52.7606643498\n",
      "    - Humidity (%): 41.0231441246\n",
      "    - Vibration Level: 4.9950850466\n",
      "    - Precipitation Level: 37.1465164135\n",
      "\n",
      "    Alerts & Incidents:\n",
      "    - Alerts: None\n",
      "    - Incident Type: None\n",
      "    - Incident Details: No incidents\n",
      "\n",
      "    Create Maintenance Recommendation and Risk reduction Plan:\n",
      "\n"
     ]
    }
   ],
   "source": [
    "# Generate a text-based report using only input data\n",
    "report = f\"\"\"\n",
    "    Transformer ID: {input_data['TransformerID'].iloc[0]}\n",
    "    InstallationDate: {input_data['InstallationDate'].iloc[0]}\n",
    "    OperatingTime: {input_data['OperatingTime'].iloc[0]} years\n",
    "    LoadCondition: {input_data['LoadCondition'].iloc[0]}\n",
    "    PerformanceMetrics: {input_data['PerformanceMetrics'].iloc[0]}\n",
    "\n",
    "    Condition Summary:\n",
    "    Health Index: {input_data['Health index'].iloc[0]}\n",
    "    Predicted Remaining Life Expectancy: {input_data['Life expectation'].iloc[0]} years\n",
    "    Based on the current dissolved gas analysis (DGA) and health index data, this transformer is expected to last an additional {input_data['Life expectation'].iloc[0]} years. \n",
    "\n",
    "    Specific gases dissolved in the transformer insulating oil, could help identify potential faults or degradation. Current levels are:\n",
    "    - Hydrogen: {input_data['Hydrogen'].iloc[0]} ppm.\n",
    "    - Oxygen: {input_data['Oxigen'].iloc[0]} ppm.\n",
    "    - Nitrogen: {input_data['Nitrogen'].iloc[0]} ppm.\n",
    "    - Methane: {input_data['Methane'].iloc[0]} ppm.\n",
    "    - CO: {input_data['CO'].iloc[0]} ppm.\n",
    "    - CO2: {input_data['CO2'].iloc[0]} ppm.\n",
    "    - Ethylene: {input_data['Ethylene'].iloc[0]} ppm.\n",
    "    - Ethane: {input_data['Ethane'].iloc[0]} ppm.\n",
    "    - Acethylene: {input_data['Acethylene'].iloc[0]} ppm.\n",
    "    - DBDS: {input_data['DBDS'].iloc[0]} ppm.\n",
    "\n",
    "    Other Key indicators suggest that:\n",
    "    - Power factor: {input_data['Power factor'].iloc[0]}.\n",
    "    - Interfacial V: {input_data['Interfacial V'].iloc[0]}.\n",
    "    - Dielectric rigidity: {input_data['Dielectric rigidity'].iloc[0]}.\n",
    "    - Water content: {input_data['Water content'].iloc[0]} ppm.\n",
    "\n",
    "    Calculated Gas ratios are:\n",
    "    - Carbon Monoxide to Hydrogen Ratio: {input_data['CO_H2_ratio'].iloc[0]}.\n",
    "    - Methane to Hydrogen Ratio: {input_data['CH4_H2_ratio'].iloc[0]}.\n",
    "    - Ethylene to Hydrogen Ratio: {input_data['C2H4_H2_ratio'].iloc[0]}.\n",
    "    - Acetylene to Hydrogen Ratio: {input_data['C2H2_H2_ratio'].iloc[0]}.\n",
    "\n",
    "    Maintenance Information:\n",
    "    - Maintenance ID: {input_data['MaintenanceID'].iloc[0]}\n",
    "    - Maintenance Type: {input_data['MaintenanceType'].iloc[0]} \n",
    "    - Last Maintenance Date: {input_data.get('MaintenanceDate', 'N/A')[0]}\n",
    "    - ReplacementHistory: {input_data.get('ReplacementHistory', 'N/A')[0]}\n",
    "\n",
    "    Environmental and Operational Factors:\n",
    "    - Transformer Load (KW): {input_data.get('TransformerLoad', 'N/A')[0]}\n",
    "    - Temperature (Celsius): {input_data.get('Temperature', 'N/A')[0]}\n",
    "    - Humidity (%): {input_data.get('Humidity', 'N/A')[0]}\n",
    "    - Vibration Level: {input_data.get('Vibration', 'N/A')[0]} cycles.\n",
    "    - Precipitation Level: {input_data.get('Precipitation', 'N/A')[0]} mm.\n",
    "\n",
    "    Alerts & Incidents:\n",
    "    - Alerts: {input_data.get('Alerts', 'None')[0]}.\n",
    "    - Incident Type: {input_data.get('IncidentType', 'None')[0]}.\n",
    "    - Incident Details: {input_data.get('IncidentDetails', 'None')[0]}.\n",
    "\n",
    "    Create Best Plan for Maintenance and Risk reduction Plan Recommendation:\n",
    "\"\"\"\n",
    "\n",
    "print(report)"
   ]
  },
  {
   "cell_type": "markdown",
   "metadata": {},
   "source": [
    "## Sumarization Example with summarize_transformer_report.py service"
   ]
  },
  {
   "cell_type": "code",
   "execution_count": 265,
   "metadata": {},
   "outputs": [
    {
     "name": "stdout",
     "output_type": "stream",
     "text": [
      " The transformer is expected to last an additional 19.0 years .\n",
      "The current dissolved gas analysis (DGA) and health index data, could help identify potential faults or degradation .\n",
      "The transformer has been installed in 2004-10-09 and it is currently stable with a load of 223.96130729828337 KW and temperature 52.76066434980563°C .\n",
      "There have been no major replacements and the transformer has not been replaced since 2010 .\n",
      "It has been placed in service to replace the transformer with a new, improved transformer that is capable of carrying more than a million gallons of oil .\n",
      "The power factor is 1.0% and the expected life expectancy of the transformer is 19.5% .\n",
      "The predicted remaining life expectancy is 18.0%.\n",
      "The transformer’s maintenance has been replaced with a “preventation and risk reduction plan” has been put in place for the transformer” for the most of the last time since 2004-12-11\n"
     ]
    }
   ],
   "source": [
    "with bentoml.SyncHTTPClient(\"http://localhost:3000\") as client:\n",
    "    result = client.summarize(\n",
    "        json_string=health_index_data.iloc[14].to_json()\n",
    "    )\n",
    "\n",
    "formatted_result = result.replace(\". \", \".\\n\")\n",
    "print(formatted_result)"
   ]
  },
  {
   "cell_type": "code",
   "execution_count": 267,
   "metadata": {},
   "outputs": [
    {
     "name": "stdout",
     "output_type": "stream",
     "text": [
      "output_data/TX-8395_report.txt\n"
     ]
    }
   ],
   "source": [
    "report_filename = \"output_data/\" + input_data['TransformerID'].iloc[0] + \"_report.txt\"\n",
    "print(report_filename)"
   ]
  },
  {
   "cell_type": "code",
   "execution_count": 268,
   "metadata": {},
   "outputs": [
    {
     "name": "stdout",
     "output_type": "stream",
     "text": [
      "\n",
      "    Transformer ID: TX-8395\n",
      "    InstallationDate: 2004-10-09\n",
      "    OperatingTime: 34.7907773926\n",
      "    LoadCondition: Normal Load\n",
      "    PerformanceMetrics: Performance stable with a load of 223.96130729828337 KW and temperature 52.76066434980563°C\n",
      "\n",
      "    Condition Summary:\n",
      "    Health Index: 60.5\n",
      "    Predicted Remaining Life Expectancy: 19.0 years\n",
      "    Based on the current dissolved gas analysis (DGA) and health index data, this transformer is \n",
      "    expected to last an additional 19.0 years. \n",
      "\n",
      "    Specific gases dissolved in the transformer insulating oil, could help identify potential faults or degradation. Current levels are:\n",
      "    - Hydrogen: 9040\n",
      "    - Oxygen: 1870\n",
      "    - Nitrogen: 47500\n",
      "    - Methane: 1790\n",
      "    - CO: 183\n",
      "    - CO2: 2060\n",
      "    - Ethylene: 7820\n",
      "    - Ethane: 638\n",
      "    - Acethylene: 1450\n",
      "    - DBDS: 0.0\n",
      "\n",
      "    Other Key indicators suggest that:\n",
      "    - Power factor: 1.0\n",
      "    - Interfacial V: 42\n",
      "    - Dielectric rigidity: 55\n",
      "    - Water content: 18\n",
      "\n",
      "    Calculated Gas ratios are:\n",
      "    - Carbon Monoxide to Hydrogen Ratio: 0.0202433628\n",
      "    - Methane to Hydrogen Ratio: 0.1980088496\n",
      "    - Ethylene to Hydrogen Ratio: 0.8650442478\n",
      "    - Acetylene to Hydrogen Ratio: 0.1603982301\n",
      "\n",
      "    Maintenance Information:\n",
      "    - Maintenance ID: MNT-61000\n",
      "    - Maintenance Type: Corrective Maintenance \n",
      "    - Last Maintenance Date: 2023-12-21\n",
      "    - ReplacementHistory: No major replacements\n",
      "\n",
      "    Environmental and Operational Factors:\n",
      "    - Transformer Load (KW): 223.9613072983\n",
      "    - Temperature (Celsius): 52.7606643498\n",
      "    - Humidity (%): 41.0231441246\n",
      "    - Vibration Level: 4.9950850466\n",
      "    - Precipitation Level: 37.1465164135\n",
      "\n",
      "    Alerts & Incidents:\n",
      "    - Alerts: None\n",
      "    - Incident Type: None\n",
      "    - Incident Details: No incidents\n",
      "\n",
      "    Create Maintenance Recommendation and Risk reduction Plan:\n",
      " The transformer is expected to last an additional 19.0 years .\n",
      "The current dissolved gas analysis (DGA) and health index data, could help identify potential faults or degradation .\n",
      "The transformer has been installed in 2004-10-09 and it is currently stable with a load of 223.96130729828337 KW and temperature 52.76066434980563°C .\n",
      "There have been no major replacements and the transformer has not been replaced since 2010 .\n",
      "It has been placed in service to replace the transformer with a new, improved transformer that is capable of carrying more than a million gallons of oil .\n",
      "The power factor is 1.0% and the expected life expectancy of the transformer is 19.5% .\n",
      "The predicted remaining life expectancy is 18.0%.\n",
      "The transformer’s maintenance has been replaced with a “preventation and risk reduction plan” has been put in place for the transformer” for the most of the last time since 2004-12-11\n"
     ]
    }
   ],
   "source": [
    "final_report = report + formatted_result\n",
    "print(final_report)\n",
    "\n",
    "with open(report_filename, \"w\") as f:\n",
    "    f.write(final_report)"
   ]
  },
  {
   "cell_type": "code",
   "execution_count": 269,
   "metadata": {},
   "outputs": [
    {
     "name": "stdout",
     "output_type": "stream",
     "text": [
      "\n",
      "    Transformer ID: TX-8395\n",
      "    InstallationDate: 2004-10-09\n",
      "    OperatingTime: 34.7907773926\n",
      "    LoadCondition: Normal Load\n",
      "    PerformanceMetrics: Performance stable with a load of 223.96130729828337 KW and temperature 52.76066434980563°C\n",
      "\n",
      "    Condition Summary:\n",
      "    Health Index: 60.5\n",
      "    Predicted Remaining Life Expectancy: 19.0 years\n",
      "    Based on the current dissolved gas analysis (DGA) and health index data, this transformer is \n",
      "    expected to last an additional 19.0 years. \n",
      "\n",
      "    Specific gases dissolved in the transformer insulating oil, could help identify potential faults or degradation. Current levels are:\n",
      "    - Hydrogen: 9040\n",
      "    - Oxygen: 1870\n",
      "    - Nitrogen: 47500\n",
      "    - Methane: 1790\n",
      "    - CO: 183\n",
      "    - CO2: 2060\n",
      "    - Ethylene: 7820\n",
      "    - Ethane: 638\n",
      "    - Acethylene: 1450\n",
      "    - DBDS: 0.0\n",
      "\n",
      "    Other Key indicators suggest that:\n",
      "    - Power factor: 1.0\n",
      "    - Interfacial V: 42\n",
      "    - Dielectric rigidity: 55\n",
      "    - Water content: 18\n",
      "\n",
      "    Calculated Gas ratios are:\n",
      "    - Carbon Monoxide to Hydrogen Ratio: 0.0202433628\n",
      "    - Methane to Hydrogen Ratio: 0.1980088496\n",
      "    - Ethylene to Hydrogen Ratio: 0.8650442478\n",
      "    - Acetylene to Hydrogen Ratio: 0.1603982301\n",
      "\n",
      "    Maintenance Information:\n",
      "    - Maintenance ID: MNT-61000\n",
      "    - Maintenance Type: Corrective Maintenance \n",
      "    - Last Maintenance Date: 2023-12-21\n",
      "    - ReplacementHistory: No major replacements\n",
      "\n",
      "    Environmental and Operational Factors:\n",
      "    - Transformer Load (KW): 223.9613072983\n",
      "    - Temperature (Celsius): 52.7606643498\n",
      "    - Humidity (%): 41.0231441246\n",
      "    - Vibration Level: 4.9950850466\n",
      "    - Precipitation Level: 37.1465164135\n",
      "\n",
      "    Alerts & Incidents:\n",
      "    - Alerts: None\n",
      "    - Incident Type: None\n",
      "    - Incident Details: No incidents\n",
      "\n",
      "    Create Maintenance Recommendation and Risk reduction Plan:\n",
      " The transformer is expected to last an additional 19.0 years .\n",
      "The current dissolved gas analysis (DGA) and health index data, could help identify potential faults or degradation .\n",
      "The transformer has been installed in 2004-10-09 and it is currently stable with a load of 223.96130729828337 KW and temperature 52.76066434980563°C .\n",
      "There have been no major replacements and the transformer has not been replaced since 2010 .\n",
      "It has been placed in service to replace the transformer with a new, improved transformer that is capable of carrying more than a million gallons of oil .\n",
      "The power factor is 1.0% and the expected life expectancy of the transformer is 19.5% .\n",
      "The predicted remaining life expectancy is 18.0%.\n",
      "The transformer’s maintenance has been replaced with a “preventation and risk reduction plan” has been put in place for the transformer” for the most of the last time since 2004-12-11\n"
     ]
    }
   ],
   "source": [
    "final_report = report + formatted_result\n",
    "with open(\"report.txt\", \"w\") as f:\n",
    "    f.write(final_report)\n",
    "\n",
    "# print the final_report\n",
    "print(final_report)"
   ]
  },
  {
   "cell_type": "markdown",
   "metadata": {},
   "source": [
    "### Causal language modeling for text generation via service llm_service.py (Hugging Face transformers)"
   ]
  },
  {
   "cell_type": "code",
   "execution_count": null,
   "metadata": {},
   "outputs": [],
   "source": [
    "with bentoml.SyncHTTPClient(\"http://localhost:3000\") as client:\n",
    "    result = client.generate(\n",
    "        json_string=health_index_data.iloc[1].to_json()\n",
    "    )\n",
    "\n",
    "print(result)"
   ]
  },
  {
   "cell_type": "code",
   "execution_count": null,
   "metadata": {},
   "outputs": [],
   "source": [
    "import requests\n",
    "\n",
    "url = \"http://localhost:3000/generate_text\"\n",
    "input_data = {\"json_string\": health_index_data.iloc[1].to_json()} \n",
    "response = requests.post(url, json=input_data)\n",
    "print(response.json())\n"
   ]
  },
  {
   "cell_type": "code",
   "execution_count": 105,
   "metadata": {},
   "outputs": [],
   "source": [
    "# convert ouput JSON to a paragraph\n",
    "def convert_json_to_paragraph(json_data):\n",
    "  paragraph = \"\"\n",
    "  for key, value in json_data.items():\n",
    "    paragraph += f\"{key}: {value} \"\n",
    "  return paragraph.strip()"
   ]
  },
  {
   "cell_type": "code",
   "execution_count": 106,
   "metadata": {},
   "outputs": [
    {
     "name": "stdout",
     "output_type": "stream",
     "text": [
      "generated_text: \n",
      "Transformer ID: TX-1873\n",
      "InstallationDate: 2002-09-27\n",
      "OperatingTime: 35.26853756\n",
      "LoadCondition: Normal Load\n",
      "PerformanceMetrics: Performance stable with a load of 573.4742788867065 KW and temperature 92.92760626605455°C\n",
      "Condition Summary:\n",
      "Health Index: 63.4\n",
      "Predicted Remaining Life Expectancy: 6.0 years \n",
      "\n",
      "Specific gases dissolved in the transformer insulating oil, could help identify potential faults or degradation. Current levels are:\n",
      "- Hydrogen: 4\n",
      "- Oxygen: 26100\n",
      "- Nitrogen: 60600\n",
      "- Methane: 1\n",
      "- CO: 206\n",
      "- CO2: 1440\n",
      "- Ethylene: 13\n",
      "- Ethane: 0\n",
      "- Acethylene: 13\n",
      "- DBDS: 5.0\n",
      "\n",
      "Other Key indicators suggest that:\n",
      "- Power factor: 1.32\n",
      "- Interfacial V: 40\n",
      "- Dielectric rigidity: 56\n",
      "- Water content: 4\n",
      "\n",
      "Calculated Gas ratios are:\n",
      "- Carbon Monoxide to Hydrogen Ratio: 51.5\n",
      "- Methane to Hydrogen Ratio: 0.25\n",
      "- Ethylene to Hydrogen Ratio: 3.25\n",
      "- Acetylene to Hydrogen Ratio: 3.25\n",
      "\n",
      "Maintenance Information:\n",
      "- Maintenance ID: MNT-26380\n",
      "- Maintenance Type: Preventive Maintenance \n",
      "- Last Maintenance Date: 2023-11-22\n",
      "- ReplacementHistory: No major replacements\n",
      "\n",
      "Environmental and Operational Factors:\n",
      "- Transformer Load (KW): 573.4742788867\n",
      "- Temperature (Celsius): 92.9276062661\n",
      "- Humidity (%): 88.5143479705\n",
      "- Vibration Level: 3.301592303\n",
      "- Precipitation Level: 30.9614810615\n",
      "\n",
      "Alerts & Incidents:\n",
      "- Alerts: High Temperature Alert\n",
      "- Incident Type: None\n",
      "- Incident Details: No incidents\n",
      "\n",
      "Create a Maintenance Recommendation:\n",
      "Based on the DGA values, Other Key indicators, performance metrics, Environmental and Operational Factors and Maintenance Information create best plan of maintenance to monitor risk and prevent failure.\n",
      "The following information is provided for each of the following:\n",
      "- The DGA values are based on the DGA values, Other Key indicators, performance metrics, Environmental and Operational Factors and Maintenance Information create best plan of maintenance to monitor risk and prevent failure.\n",
      "- The DGA values are based on the DGA values, Other Key indicators, performance metrics, Environmental and Operational Factors and Maintenance Information create best plan of maintenance to monitor risk and prevent failure.\n",
      "- The DGA values are based on the DGA values, Other Key indicators, performance metrics, Environmental and Operational Factors and Maintenance Information create best plan of maintenance to monitor risk and prevent failure.\n",
      "- The DGA values are based on the DGA values, Other Key indicators, performance metrics, Environmental and Operational Factors and Maintenance Information create best plan of maintenance to monitor risk and prevent failure.\n",
      "- The DGA values are based on the DGA values, Other Key indicators, performance metrics, Environmental and Operational Factors and Maintenance Information create best plan of maintenance to monitor risk and prevent failure.\n",
      "- The DGA values are based on the DGA values, Other Key indicators, performance metrics, Environmental and Operational Factors and Maintenance Information create best plan of maintenance to monitor risk and prevent failure.\n",
      "- The DGA values are based on the DGA values, Other Key indicators, performance metrics, Environmental and Operational Factors and Maintenance Information create best plan of maintenance to monitor risk and prevent failure.\n",
      "- The DGA values are based on the DGA values, Other Key indicators, performance metrics, Environmental and Operational Factors and Maintenance Information create best plan of maintenance to monitor risk and prevent failure.\n",
      "- The DGA values are based on the DGA values, Other Key indicators, performance metrics, Environmental and Operational Factors and Maintenance Information create best plan of maintenance to monitor risk and prevent failure.\n",
      "- The DGA values are based on the DGA values, Other Key indicators, performance metrics, Environmental and Operational Factors and Maintenance Information create best plan of maintenance to monitor risk and prevent failure.\n",
      "- The DGA values are based on the DGA values, Other Key indicators, performance metrics, Environmental and Operational Factors and Maintenance Information create best plan of maintenance to monitor risk and prevent failure.\n",
      "- The DGA values are based on the DGA values, Other Key indicators, performance metrics, Environmental and Operational Factors and Maintenance Information create best plan of maintenance to monitor risk and prevent failure.\n",
      "- The DGA values are based on the DGA values, Other Key indicators, performance metrics, Environmental and Operational Factors and Maintenance Information create best plan of maintenance to monitor risk and prevent failure.\n",
      "- The DGA values are based\n"
     ]
    }
   ],
   "source": [
    "paragraph = convert_json_to_paragraph(response.json())\n",
    "print(paragraph)"
   ]
  }
 ],
 "metadata": {
  "kernelspec": {
   "display_name": "Python 3",
   "language": "python",
   "name": "python3"
  },
  "language_info": {
   "codemirror_mode": {
    "name": "ipython",
    "version": 3
   },
   "file_extension": ".py",
   "mimetype": "text/x-python",
   "name": "python",
   "nbconvert_exporter": "python",
   "pygments_lexer": "ipython3",
   "version": "3.12.1"
  }
 },
 "nbformat": 4,
 "nbformat_minor": 2
}
