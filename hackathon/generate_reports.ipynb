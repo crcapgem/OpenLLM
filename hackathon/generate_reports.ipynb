{
 "cells": [
  {
   "cell_type": "code",
   "execution_count": 69,
   "metadata": {},
   "outputs": [],
   "source": [
    "import bentoml\n",
    "from bentoml.io import JSON, Text\n",
    "import pandas as pd\n",
    "import random\n",
    "import numpy as np\n",
    "import requests\n",
    "import json"
   ]
  },
  {
   "cell_type": "code",
   "execution_count": 70,
   "metadata": {},
   "outputs": [],
   "source": [
    "# Load input CSV file to analyze its content\n",
    "file_path = 'failure_data/health_index_augdata.csv'\n",
    "health_index_data = pd.read_csv(file_path)"
   ]
  },
  {
   "cell_type": "code",
   "execution_count": 71,
   "metadata": {},
   "outputs": [
    {
     "name": "stdout",
     "output_type": "stream",
     "text": [
      "TxID_1872\n",
      "Performance with a load of 327.90248545686734 KW and temperature 83.59766981598536°C. Stable operating conditions without any Incidents\n"
     ]
    }
   ],
   "source": [
    "### A Godd Condition transformer\n",
    "good_condition_transformer = health_index_data.iloc[0]\n",
    "print(good_condition_transformer['TransformerID'])\n",
    "print(good_condition_transformer['PerformanceMetrics'])"
   ]
  },
  {
   "cell_type": "markdown",
   "metadata": {},
   "source": [
    "## Sumarization Example with summarize_transformer_report.py service"
   ]
  },
  {
   "cell_type": "code",
   "execution_count": 72,
   "metadata": {},
   "outputs": [],
   "source": [
    "import boto3\n",
    "import json\n",
    "\n",
    "def summarize_text(input_string):\n",
    "    # Create a Bedrock client\n",
    "    bedrock = boto3.client('bedrock-runtime')\n",
    "\n",
    "    # Prepare the input payload\n",
    "    payload = {\n",
    "        \"inputText\": f\"Summarize the following text: {input_string}\",\n",
    "        \"textGenerationConfig\": {\n",
    "            \"maxTokenCount\": 300,\n",
    "            \"stopSequences\": [],\n",
    "            \"temperature\": 0.7,\n",
    "            \"topP\": 1\n",
    "        }\n",
    "    }\n",
    "\n",
    "    # Convert the payload to JSON string\n",
    "    body = json.dumps(payload)\n",
    "\n",
    "    # Invoke the model (using Amazon Titan Text model as an example)\n",
    "    response = bedrock.invoke_model(\n",
    "        modelId=\"amazon.titan-text-express-v1\",\n",
    "        contentType=\"application/json\",\n",
    "        accept=\"application/json\",\n",
    "        body=body\n",
    "    )\n",
    "\n",
    "    # Parse the response\n",
    "    response_body = json.loads(response['body'].read())\n",
    "    summary = response_body['results'][0]['outputText']\n",
    "\n",
    "    return summary\n"
   ]
  },
  {
   "cell_type": "code",
   "execution_count": 73,
   "metadata": {},
   "outputs": [],
   "source": [
    "# Example usage\n",
    "input_json = {\"string\": \"\"\"\n",
    "Transformer ID: TX-5137\n",
    "InstallationDate: 2009-05-21\n",
    "OperatingTime: 39.416660829 years.\n",
    "LoadCondition: Normal Load\n",
    "PerformanceMetrics: Performance with a load of 1391.7672635240103 KW and temperature 64.64806835742223°C. Operating conditions were impacted by No incidents.\n",
    "\n",
    "Condition Summary:\n",
    "Health Index: 95.2\n",
    "Based on the current dissolved gas analysis (DGA) and health index data, this transformer is expected to last an additional 19.0 years. \n",
    "\n",
    "Specific gases dissolved in the transformer insulating oil, could help identify potential faults or degradation. Current levels are:\n",
    "- Hydrogen: 2845 ppm.\n",
    "- Oxygen: 5860 ppm.\n",
    "- Nitrogen: 27842 ppm.\n",
    "- Methane: 7406 ppm.\n",
    "- CO: 32 ppm.\n",
    "- CO2: 1344 ppm.\n",
    "- Ethylene: 16684 ppm.\n",
    "- Ethane: 5467 ppm.\n",
    "- Acethylene: 7 ppm.\n",
    "- DBDS: 19.0 ppm.\n",
    "\n",
    "Other Key indicators suggest that:\n",
    "- Power factor: 1.0.\n",
    "- Interfacial V: 45.\n",
    "- Dielectric rigidity: 55.\n",
    "- Water content: 0 ppm.\n",
    "\n",
    "Calculated Gas ratios are:\n",
    "- Carbon Monoxide to Hydrogen Ratio: 0.0112478032.\n",
    "- Methane to Hydrogen Ratio: 2.6031634446.\n",
    "- Ethylene to Hydrogen Ratio: 5.8643233743.\n",
    "- Acetylene to Hydrogen Ratio: 0.0024604569.\n",
    "\n",
    "Maintenance Information:\n",
    "- Maintenance ID: MNT-29391\n",
    "- Maintenance Type: Emergency Maintenance \n",
    "- Last Maintenance Date: 2023-11-02\n",
    "- ReplacementHistory: Replaced major components\n",
    "\n",
    "Environmental and Operational Factors:\n",
    "- Transformer Load (KW): 1391.767263524\n",
    "- Temperature (Celsius): 64.6480683574\n",
    "- Humidity (%): 90.9032108218 %.\n",
    "- Precipitation Level: 48.9464070009 mm.\n",
    "\n",
    "Alerts & Incidents:\n",
    "- Alerts: None.\n",
    "- Incident Type: None.\n",
    "- Incident Details: No incidents.\n",
    "\n",
    "Current Status Summary: \n",
    "\"\"\"}\n"
   ]
  },
  {
   "cell_type": "code",
   "execution_count": null,
   "metadata": {},
   "outputs": [],
   "source": [
    "summary = summarize_text(input_json[\"string\"])\n",
    "print(\"Summary:\", summary)"
   ]
  },
  {
   "cell_type": "code",
   "execution_count": null,
   "metadata": {},
   "outputs": [],
   "source": [
    "formatted_result = result.replace(\". \", \".\\n\")\n",
    "print(formatted_result)"
   ]
  },
  {
   "cell_type": "code",
   "execution_count": 13,
   "metadata": {},
   "outputs": [
    {
     "name": "stdout",
     "output_type": "stream",
     "text": [
      "output_data/TX-5137_report.txt\n"
     ]
    }
   ],
   "source": [
    "report_filename = \"output_data/\" + good_condition_transformer['TransformerID'] + \"_report.txt\"\n",
    "print(report_filename)"
   ]
  },
  {
   "cell_type": "code",
   "execution_count": 14,
   "metadata": {},
   "outputs": [
    {
     "name": "stdout",
     "output_type": "stream",
     "text": [
      "\n",
      "Transformer ID: TX-5137\n",
      "InstallationDate: 2009-05-21\n",
      "OperatingTime: 39.416660829 years.\n",
      "LoadCondition: Normal Load\n",
      "PerformanceMetrics: Performance with a load of 1391.7672635240103 KW and temperature 64.64806835742223°C. Operating conditions were impacted by No incidents.\n",
      "\n",
      "Condition Summary:\n",
      "Health Index: 95.2\n",
      "Based on the current dissolved gas analysis (DGA) and health index data, this transformer is expected to last an additional 19.0 years. \n",
      "\n",
      "Specific gases dissolved in the transformer insulating oil, could help identify potential faults or degradation. Current levels are:\n",
      "- Hydrogen: 2845 ppm.\n",
      "- Oxygen: 5860 ppm.\n",
      "- Nitrogen: 27842 ppm.\n",
      "- Methane: 7406 ppm.\n",
      "- CO: 32 ppm.\n",
      "- CO2: 1344 ppm.\n",
      "- Ethylene: 16684 ppm.\n",
      "- Ethane: 5467 ppm.\n",
      "- Acethylene: 7 ppm.\n",
      "- DBDS: 19.0 ppm.\n",
      "\n",
      "Other Key indicators suggest that:\n",
      "- Power factor: 1.0.\n",
      "- Interfacial V: 45.\n",
      "- Dielectric rigidity: 55.\n",
      "- Water content: 0 ppm.\n",
      "\n",
      "Calculated Gas ratios are:\n",
      "- Carbon Monoxide to Hydrogen Ratio: 0.0112478032.\n",
      "- Methane to Hydrogen Ratio: 2.6031634446.\n",
      "- Ethylene to Hydrogen Ratio: 5.8643233743.\n",
      "- Acetylene to Hydrogen Ratio: 0.0024604569.\n",
      "\n",
      "Maintenance Information:\n",
      "- Maintenance ID: MNT-29391\n",
      "- Maintenance Type: Emergency Maintenance \n",
      "- Last Maintenance Date: 2023-11-02\n",
      "- ReplacementHistory: Replaced major components\n",
      "\n",
      "Environmental and Operational Factors:\n",
      "- Transformer Load (KW): 1391.767263524\n",
      "- Temperature (Celsius): 64.6480683574\n",
      "- Humidity (%): 90.9032108218 %.\n",
      "- Precipitation Level: 48.9464070009 mm.\n",
      "\n",
      "Alerts & Incidents:\n",
      "- Alerts: None.\n",
      "- Incident Type: None.\n",
      "- Incident Details: No incidents.\n",
      "\n",
      "Current Status Summary:\n",
      " The transformer is expected to last an additional 19.0 years .\n",
      "The current dissolved gas analysis (DGA) and health index data suggest that this transformer is not ready to function properly .\n",
      "The transformer has a power factor factor of 1.0.0 and temperature 64.64806835742223°C.\n",
      "Operating conditions were impacted by No incidents.\n",
      "The transformer was installed in 2009-05-21 with a load of 1391.767263535240103 KW and a temperature of 64.8°C .\n",
      "The transformers are expected to work for another 19.5 years .\n",
      "They will be replaced with new materials that have been installed at the same time as the transformer’s replacement history.\n",
      "They were replaced by new materials.\n",
      "The new materials have been removed from the transformers.\n",
      "The components have been replaced in the transformer have been placed in place of the transformer.\n",
      "The equipment is capable of working for more than 30 years.\n",
      "The work has been completed.\n"
     ]
    }
   ],
   "source": [
    "final_report = report + formatted_result\n",
    "print(final_report)\n",
    "\n",
    "with open(report_filename, \"w\") as f:\n",
    "    f.write(final_report)"
   ]
  },
  {
   "cell_type": "code",
   "execution_count": 10,
   "metadata": {},
   "outputs": [
    {
     "name": "stdout",
     "output_type": "stream",
     "text": [
      "\n",
      "Transformer ID: TX-5137\n",
      "InstallationDate: 2009-05-21\n",
      "OperatingTime: 39.416660829 years.\n",
      "LoadCondition: Normal Load\n",
      "PerformanceMetrics: Performance with a load of 1391.7672635240103 KW and temperature 64.64806835742223°C. Operating conditions were impacted by No incidents.\n",
      "\n",
      "Condition Summary:\n",
      "Health Index: 95.2\n",
      "Based on the current dissolved gas analysis (DGA) and health index data, this transformer is expected to last an additional 19.0 years. \n",
      "\n",
      "Specific gases dissolved in the transformer insulating oil, could help identify potential faults or degradation. Current levels are:\n",
      "- Hydrogen: 2845 ppm.\n",
      "- Oxygen: 5860 ppm.\n",
      "- Nitrogen: 27842 ppm.\n",
      "- Methane: 7406 ppm.\n",
      "- CO: 32 ppm.\n",
      "- CO2: 1344 ppm.\n",
      "- Ethylene: 16684 ppm.\n",
      "- Ethane: 5467 ppm.\n",
      "- Acethylene: 7 ppm.\n",
      "- DBDS: 19.0 ppm.\n",
      "\n",
      "Other Key indicators suggest that:\n",
      "- Power factor: 1.0.\n",
      "- Interfacial V: 45.\n",
      "- Dielectric rigidity: 55.\n",
      "- Water content: 0 ppm.\n",
      "\n",
      "Calculated Gas ratios are:\n",
      "- Carbon Monoxide to Hydrogen Ratio: 0.0112478032.\n",
      "- Methane to Hydrogen Ratio: 2.6031634446.\n",
      "- Ethylene to Hydrogen Ratio: 5.8643233743.\n",
      "- Acetylene to Hydrogen Ratio: 0.0024604569.\n",
      "\n",
      "Maintenance Information:\n",
      "- Maintenance ID: MNT-29391\n",
      "- Maintenance Type: Emergency Maintenance \n",
      "- Last Maintenance Date: 2023-11-02\n",
      "- ReplacementHistory: Replaced major components\n",
      "\n",
      "Environmental and Operational Factors:\n",
      "- Transformer Load (KW): 1391.767263524\n",
      "- Temperature (Celsius): 64.6480683574\n",
      "- Humidity (%): 90.9032108218 %.\n",
      "- Precipitation Level: 48.9464070009 mm.\n",
      "\n",
      "Alerts & Incidents:\n",
      "- Alerts: None.\n",
      "- Incident Type: None.\n",
      "- Incident Details: No incidents.\n",
      "\n",
      "Current Status Summary:\n",
      " The transformer is expected to last an additional 19.0 years .\n",
      "The current dissolved gas analysis (DGA) and health index data is based on the transformer's current strength .\n",
      "The transformer's health index is 95.2% .\n",
      "The operating conditions were impacted by No incidents .\n",
      "No incidents have been reported so far .\n",
      "The transformers are currently carrying a load of 1391.767262635240103 KW and temperature 64.64806835742223°C.\n",
      "The transformer was installed in 2009-05-21 at the time of the installation of the transformer in Texas County, Texas, Texas .\n",
      "It is the first transformer to be replaced by a transformer since 2009-11-02 at the same time .\n",
      "It has been replaced with a transformer with a new transformer that is capable of carrying a full power supply .\n",
      "It was replaced by an existing transformer with an internal power supply of an internal pressure pressure pressure plate .\n",
      "There is no maintenance information on the current transformer’s condition.\n"
     ]
    }
   ],
   "source": [
    "final_report = report + formatted_result\n",
    "with open(\"report.txt\", \"w\") as f:\n",
    "    f.write(final_report)\n",
    "\n",
    "# print the final_report\n",
    "print(final_report)"
   ]
  },
  {
   "cell_type": "code",
   "execution_count": 52,
   "metadata": {},
   "outputs": [
    {
     "name": "stdout",
     "output_type": "stream",
     "text": [
      "TxID_6398\n",
      "Performance with a load of 1309.8197130407605 KW and temperature 51.93916099537851°C. Stable operating conditions without any Incidents\n"
     ]
    }
   ],
   "source": [
    "### A Bad Condition transformer\n",
    "bad_condition_transformer = health_index_data.iloc[10]\n",
    "print(bad_condition_transformer['TransformerID'])\n",
    "print(bad_condition_transformer['PerformanceMetrics'])"
   ]
  },
  {
   "cell_type": "markdown",
   "metadata": {},
   "source": [
    "## With OpenLLM"
   ]
  },
  {
   "cell_type": "code",
   "execution_count": null,
   "metadata": {},
   "outputs": [],
   "source": [
    "with bentoml.SyncHTTPClient(\"http://localhost:3000\") as client:\n",
    "    result = client.summarize(\n",
    "        json_string=good_condition_transformer.to_json()\n",
    "    )\n",
    "print(result)"
   ]
  },
  {
   "cell_type": "code",
   "execution_count": 53,
   "metadata": {},
   "outputs": [
    {
     "ename": "ServiceUnavailable",
     "evalue": "Server is not ready after 30 seconds",
     "output_type": "error",
     "traceback": [
      "\u001b[0;31m---------------------------------------------------------------------------\u001b[0m",
      "\u001b[0;31mServiceUnavailable\u001b[0m                        Traceback (most recent call last)",
      "Cell \u001b[0;32mIn[53], line 1\u001b[0m\n\u001b[0;32m----> 1\u001b[0m \u001b[38;5;28;01mwith\u001b[39;00m \u001b[43mbentoml\u001b[49m\u001b[38;5;241;43m.\u001b[39;49m\u001b[43mSyncHTTPClient\u001b[49m\u001b[43m(\u001b[49m\u001b[38;5;124;43m\"\u001b[39;49m\u001b[38;5;124;43mhttp://localhost:3000\u001b[39;49m\u001b[38;5;124;43m\"\u001b[39;49m\u001b[43m)\u001b[49m \u001b[38;5;28;01mas\u001b[39;00m client:\n\u001b[1;32m      2\u001b[0m     result \u001b[38;5;241m=\u001b[39m client\u001b[38;5;241m.\u001b[39msummarize(\n\u001b[1;32m      3\u001b[0m         json_string\u001b[38;5;241m=\u001b[39mbad_condition_transformer\u001b[38;5;241m.\u001b[39mto_json()\n\u001b[1;32m      4\u001b[0m     )\n\u001b[1;32m      5\u001b[0m \u001b[38;5;28mprint\u001b[39m(result)\n",
      "File \u001b[0;32m/usr/local/python/3.12.1/lib/python3.12/site-packages/_bentoml_impl/client/__init__.py:50\u001b[0m, in \u001b[0;36mSyncHTTPClient.__init__\u001b[0;34m(self, url, token, timeout, server_ready_timeout)\u001b[0m\n\u001b[1;32m     42\u001b[0m \u001b[38;5;28;01mdef\u001b[39;00m \u001b[38;5;21m__init__\u001b[39m(\n\u001b[1;32m     43\u001b[0m     \u001b[38;5;28mself\u001b[39m,\n\u001b[1;32m     44\u001b[0m     url: \u001b[38;5;28mstr\u001b[39m,\n\u001b[0;32m   (...)\u001b[0m\n\u001b[1;32m     48\u001b[0m     server_ready_timeout: \u001b[38;5;28mfloat\u001b[39m \u001b[38;5;241m|\u001b[39m \u001b[38;5;28;01mNone\u001b[39;00m \u001b[38;5;241m=\u001b[39m \u001b[38;5;28;01mNone\u001b[39;00m,\n\u001b[1;32m     49\u001b[0m ) \u001b[38;5;241m-\u001b[39m\u001b[38;5;241m>\u001b[39m \u001b[38;5;28;01mNone\u001b[39;00m:\n\u001b[0;32m---> 50\u001b[0m     \u001b[38;5;28;43msuper\u001b[39;49m\u001b[43m(\u001b[49m\u001b[43m)\u001b[49m\u001b[38;5;241;43m.\u001b[39;49m\u001b[38;5;21;43m__init__\u001b[39;49m\u001b[43m(\u001b[49m\n\u001b[1;32m     51\u001b[0m \u001b[43m        \u001b[49m\u001b[43murl\u001b[49m\u001b[43m,\u001b[49m\u001b[43m \u001b[49m\u001b[43mtoken\u001b[49m\u001b[38;5;241;43m=\u001b[39;49m\u001b[43mtoken\u001b[49m\u001b[43m,\u001b[49m\u001b[43m \u001b[49m\u001b[43mtimeout\u001b[49m\u001b[38;5;241;43m=\u001b[39;49m\u001b[43mtimeout\u001b[49m\u001b[43m,\u001b[49m\u001b[43m \u001b[49m\u001b[43mserver_ready_timeout\u001b[49m\u001b[38;5;241;43m=\u001b[39;49m\u001b[43mserver_ready_timeout\u001b[49m\n\u001b[1;32m     52\u001b[0m \u001b[43m    \u001b[49m\u001b[43m)\u001b[49m\n",
      "File \u001b[0;32m/usr/local/python/3.12.1/lib/python3.12/site-packages/_bentoml_impl/client/http.py:170\u001b[0m, in \u001b[0;36mHTTPClient.__init__\u001b[0;34m(self, url, media_type, service, server_ready_timeout, token, timeout)\u001b[0m\n\u001b[1;32m    162\u001b[0m \u001b[38;5;28mself\u001b[39m\u001b[38;5;241m.\u001b[39m__attrs_init__(  \u001b[38;5;66;03m# type: ignore\u001b[39;00m\n\u001b[1;32m    163\u001b[0m     url\u001b[38;5;241m=\u001b[39murl,\n\u001b[1;32m    164\u001b[0m     endpoints\u001b[38;5;241m=\u001b[39mroutes,\n\u001b[0;32m   (...)\u001b[0m\n\u001b[1;32m    167\u001b[0m     timeout\u001b[38;5;241m=\u001b[39mtimeout,\n\u001b[1;32m    168\u001b[0m )\n\u001b[1;32m    169\u001b[0m \u001b[38;5;28;01mif\u001b[39;00m server_ready_timeout \u001b[38;5;129;01mis\u001b[39;00m \u001b[38;5;28;01mNone\u001b[39;00m \u001b[38;5;129;01mor\u001b[39;00m server_ready_timeout \u001b[38;5;241m>\u001b[39m \u001b[38;5;241m0\u001b[39m:\n\u001b[0;32m--> 170\u001b[0m     \u001b[38;5;28;43mself\u001b[39;49m\u001b[38;5;241;43m.\u001b[39;49m\u001b[43mwait_until_server_ready\u001b[49m\u001b[43m(\u001b[49m\u001b[43mserver_ready_timeout\u001b[49m\u001b[43m)\u001b[49m\n\u001b[1;32m    171\u001b[0m \u001b[38;5;28;01mif\u001b[39;00m service \u001b[38;5;129;01mis\u001b[39;00m \u001b[38;5;28;01mNone\u001b[39;00m:\n\u001b[1;32m    172\u001b[0m     schema_url \u001b[38;5;241m=\u001b[39m urljoin(url, \u001b[38;5;124m\"\u001b[39m\u001b[38;5;124m/schema.json\u001b[39m\u001b[38;5;124m\"\u001b[39m)\n",
      "File \u001b[0;32m/usr/local/python/3.12.1/lib/python3.12/site-packages/_bentoml_impl/client/http.py:279\u001b[0m, in \u001b[0;36mHTTPClient.wait_until_server_ready\u001b[0;34m(self, timeout)\u001b[0m\n\u001b[1;32m    277\u001b[0m         \u001b[38;5;28;01mexcept\u001b[39;00m (httpx\u001b[38;5;241m.\u001b[39mTimeoutException, httpx\u001b[38;5;241m.\u001b[39mConnectError):\n\u001b[1;32m    278\u001b[0m             \u001b[38;5;28;01mpass\u001b[39;00m\n\u001b[0;32m--> 279\u001b[0m \u001b[38;5;28;01mraise\u001b[39;00m ServiceUnavailable(\u001b[38;5;124mf\u001b[39m\u001b[38;5;124m\"\u001b[39m\u001b[38;5;124mServer is not ready after \u001b[39m\u001b[38;5;132;01m{\u001b[39;00mtimeout\u001b[38;5;132;01m}\u001b[39;00m\u001b[38;5;124m seconds\u001b[39m\u001b[38;5;124m\"\u001b[39m)\n",
      "\u001b[0;31mServiceUnavailable\u001b[0m: Server is not ready after 30 seconds"
     ]
    }
   ],
   "source": [
    "with bentoml.SyncHTTPClient(\"http://localhost:3000\") as client:\n",
    "    result = client.summarize(\n",
    "        json_string=bad_condition_transformer.to_json()\n",
    "    )\n",
    "print(result)"
   ]
  },
  {
   "cell_type": "code",
   "execution_count": null,
   "metadata": {},
   "outputs": [],
   "source": [
    "formatted_result = result.replace(\". \", \".\\n\")\n",
    "print(formatted_result)"
   ]
  },
  {
   "cell_type": "code",
   "execution_count": 17,
   "metadata": {},
   "outputs": [
    {
     "name": "stdout",
     "output_type": "stream",
     "text": [
      "output_data/TX-5137_report.txt\n"
     ]
    }
   ],
   "source": [
    "report_filename = \"output_data/\" + input_data['TransformerID'].iloc[0] + \"_report.txt\"\n",
    "print(report_filename)"
   ]
  },
  {
   "cell_type": "code",
   "execution_count": 16,
   "metadata": {},
   "outputs": [
    {
     "name": "stdout",
     "output_type": "stream",
     "text": [
      "\n",
      "Transformer ID: TX-5137\n",
      "InstallationDate: 2009-05-21\n",
      "OperatingTime: 39.416660829 years.\n",
      "LoadCondition: Normal Load\n",
      "PerformanceMetrics: Performance with a load of 1391.7672635240103 KW and temperature 64.64806835742223°C. Operating conditions were impacted by No incidents.\n",
      "\n",
      "Condition Summary:\n",
      "Health Index: 95.2\n",
      "Based on the current dissolved gas analysis (DGA) and health index data, this transformer is expected to last an additional 19.0 years. \n",
      "\n",
      "Specific gases dissolved in the transformer insulating oil, could help identify potential faults or degradation. Current levels are:\n",
      "- Hydrogen: 2845 ppm.\n",
      "- Oxygen: 5860 ppm.\n",
      "- Nitrogen: 27842 ppm.\n",
      "- Methane: 7406 ppm.\n",
      "- CO: 32 ppm.\n",
      "- CO2: 1344 ppm.\n",
      "- Ethylene: 16684 ppm.\n",
      "- Ethane: 5467 ppm.\n",
      "- Acethylene: 7 ppm.\n",
      "- DBDS: 19.0 ppm.\n",
      "\n",
      "Other Key indicators suggest that:\n",
      "- Power factor: 1.0.\n",
      "- Interfacial V: 45.\n",
      "- Dielectric rigidity: 55.\n",
      "- Water content: 0 ppm.\n",
      "\n",
      "Calculated Gas ratios are:\n",
      "- Carbon Monoxide to Hydrogen Ratio: 0.0112478032.\n",
      "- Methane to Hydrogen Ratio: 2.6031634446.\n",
      "- Ethylene to Hydrogen Ratio: 5.8643233743.\n",
      "- Acetylene to Hydrogen Ratio: 0.0024604569.\n",
      "\n",
      "Maintenance Information:\n",
      "- Maintenance ID: MNT-29391\n",
      "- Maintenance Type: Emergency Maintenance \n",
      "- Last Maintenance Date: 2023-11-02\n",
      "- ReplacementHistory: Replaced major components\n",
      "\n",
      "Environmental and Operational Factors:\n",
      "- Transformer Load (KW): 1391.767263524\n",
      "- Temperature (Celsius): 64.6480683574\n",
      "- Humidity (%): 90.9032108218 %.\n",
      "- Precipitation Level: 48.9464070009 mm.\n",
      "\n",
      "Alerts & Incidents:\n",
      "- Alerts: None.\n",
      "- Incident Type: None.\n",
      "- Incident Details: No incidents.\n",
      "\n",
      "Current Status Summary:\n",
      " The transformer is expected to last an additional 6.0 years .\n",
      "Operating conditions were impacted by No incidents .\n",
      "Current dissolved gas analysis (DGA) and health index data suggest the transformer should last longer .\n",
      "The transformer has a temperature of 64.74347027015476°C with a load of 162.41831951920915 KW and a humidity of 56.1171230959% .\n",
      "No major replacements have been made in the transformer since 2010 .\n",
      "Transformer: TX-3627 - Transformer installed in 2014-03-19 with no major replacements .\n",
      "No reports of any problems have been reported to date .\n",
      "No incidents were reported to be caused by any problems in this transformer .\n",
      "No problems were reported at this time of the transformer’s installation date.\n",
      "No issues reported to have occurred in this type of Transformer.\n",
      "No problems reported in the past month.\n",
      "No incidents have been caused by the transformer.\n",
      "No failures reported.\n",
      "No maintenance issues have been identified.\n"
     ]
    }
   ],
   "source": [
    "final_report = report + formatted_result\n",
    "with open(\"report.txt\", \"w\") as f:\n",
    "    f.write(final_report)\n",
    "\n",
    "# print the final_report\n",
    "print(final_report)"
   ]
  },
  {
   "cell_type": "markdown",
   "metadata": {},
   "source": [
    "### Causal language modeling for text generation via service llm_service.py (Hugging Face transformers)"
   ]
  },
  {
   "cell_type": "code",
   "execution_count": null,
   "metadata": {},
   "outputs": [],
   "source": [
    "with bentoml.SyncHTTPClient(\"http://localhost:3000\") as client:\n",
    "    result = client.generate(\n",
    "        json_string=health_index_data.iloc[1].to_json()\n",
    "    )\n",
    "\n",
    "print(result)"
   ]
  },
  {
   "cell_type": "code",
   "execution_count": null,
   "metadata": {},
   "outputs": [],
   "source": [
    "import requests\n",
    "\n",
    "url = \"http://localhost:3000/generate_text\"\n",
    "input_data = {\"json_string\": health_index_data.iloc[1].to_json()} \n",
    "response = requests.post(url, json=input_data)\n",
    "print(response.json())\n"
   ]
  },
  {
   "cell_type": "code",
   "execution_count": 105,
   "metadata": {},
   "outputs": [],
   "source": [
    "# convert ouput JSON to a paragraph\n",
    "def convert_json_to_paragraph(json_data):\n",
    "  paragraph = \"\"\n",
    "  for key, value in json_data.items():\n",
    "    paragraph += f\"{key}: {value} \"\n",
    "  return paragraph.strip()"
   ]
  },
  {
   "cell_type": "code",
   "execution_count": 106,
   "metadata": {},
   "outputs": [
    {
     "name": "stdout",
     "output_type": "stream",
     "text": [
      "generated_text: \n",
      "Transformer ID: TX-1873\n",
      "InstallationDate: 2002-09-27\n",
      "OperatingTime: 35.26853756\n",
      "LoadCondition: Normal Load\n",
      "PerformanceMetrics: Performance stable with a load of 573.4742788867065 KW and temperature 92.92760626605455°C\n",
      "Condition Summary:\n",
      "Health Index: 63.4\n",
      "Predicted Remaining Life Expectancy: 6.0 years \n",
      "\n",
      "Specific gases dissolved in the transformer insulating oil, could help identify potential faults or degradation. Current levels are:\n",
      "- Hydrogen: 4\n",
      "- Oxygen: 26100\n",
      "- Nitrogen: 60600\n",
      "- Methane: 1\n",
      "- CO: 206\n",
      "- CO2: 1440\n",
      "- Ethylene: 13\n",
      "- Ethane: 0\n",
      "- Acethylene: 13\n",
      "- DBDS: 5.0\n",
      "\n",
      "Other Key indicators suggest that:\n",
      "- Power factor: 1.32\n",
      "- Interfacial V: 40\n",
      "- Dielectric rigidity: 56\n",
      "- Water content: 4\n",
      "\n",
      "Calculated Gas ratios are:\n",
      "- Carbon Monoxide to Hydrogen Ratio: 51.5\n",
      "- Methane to Hydrogen Ratio: 0.25\n",
      "- Ethylene to Hydrogen Ratio: 3.25\n",
      "- Acetylene to Hydrogen Ratio: 3.25\n",
      "\n",
      "Maintenance Information:\n",
      "- Maintenance ID: MNT-26380\n",
      "- Maintenance Type: Preventive Maintenance \n",
      "- Last Maintenance Date: 2023-11-22\n",
      "- ReplacementHistory: No major replacements\n",
      "\n",
      "Environmental and Operational Factors:\n",
      "- Transformer Load (KW): 573.4742788867\n",
      "- Temperature (Celsius): 92.9276062661\n",
      "- Humidity (%): 88.5143479705\n",
      "- Vibration Level: 3.301592303\n",
      "- Precipitation Level: 30.9614810615\n",
      "\n",
      "Alerts & Incidents:\n",
      "- Alerts: High Temperature Alert\n",
      "- Incident Type: None\n",
      "- Incident Details: No incidents\n",
      "\n",
      "Create a Maintenance Recommendation:\n",
      "Based on the DGA values, Other Key indicators, performance metrics, Environmental and Operational Factors and Maintenance Information create best plan of maintenance to monitor risk and prevent failure.\n",
      "The following information is provided for each of the following:\n",
      "- The DGA values are based on the DGA values, Other Key indicators, performance metrics, Environmental and Operational Factors and Maintenance Information create best plan of maintenance to monitor risk and prevent failure.\n",
      "- The DGA values are based on the DGA values, Other Key indicators, performance metrics, Environmental and Operational Factors and Maintenance Information create best plan of maintenance to monitor risk and prevent failure.\n",
      "- The DGA values are based on the DGA values, Other Key indicators, performance metrics, Environmental and Operational Factors and Maintenance Information create best plan of maintenance to monitor risk and prevent failure.\n",
      "- The DGA values are based on the DGA values, Other Key indicators, performance metrics, Environmental and Operational Factors and Maintenance Information create best plan of maintenance to monitor risk and prevent failure.\n",
      "- The DGA values are based on the DGA values, Other Key indicators, performance metrics, Environmental and Operational Factors and Maintenance Information create best plan of maintenance to monitor risk and prevent failure.\n",
      "- The DGA values are based on the DGA values, Other Key indicators, performance metrics, Environmental and Operational Factors and Maintenance Information create best plan of maintenance to monitor risk and prevent failure.\n",
      "- The DGA values are based on the DGA values, Other Key indicators, performance metrics, Environmental and Operational Factors and Maintenance Information create best plan of maintenance to monitor risk and prevent failure.\n",
      "- The DGA values are based on the DGA values, Other Key indicators, performance metrics, Environmental and Operational Factors and Maintenance Information create best plan of maintenance to monitor risk and prevent failure.\n",
      "- The DGA values are based on the DGA values, Other Key indicators, performance metrics, Environmental and Operational Factors and Maintenance Information create best plan of maintenance to monitor risk and prevent failure.\n",
      "- The DGA values are based on the DGA values, Other Key indicators, performance metrics, Environmental and Operational Factors and Maintenance Information create best plan of maintenance to monitor risk and prevent failure.\n",
      "- The DGA values are based on the DGA values, Other Key indicators, performance metrics, Environmental and Operational Factors and Maintenance Information create best plan of maintenance to monitor risk and prevent failure.\n",
      "- The DGA values are based on the DGA values, Other Key indicators, performance metrics, Environmental and Operational Factors and Maintenance Information create best plan of maintenance to monitor risk and prevent failure.\n",
      "- The DGA values are based on the DGA values, Other Key indicators, performance metrics, Environmental and Operational Factors and Maintenance Information create best plan of maintenance to monitor risk and prevent failure.\n",
      "- The DGA values are based\n"
     ]
    }
   ],
   "source": [
    "paragraph = convert_json_to_paragraph(response.json())\n",
    "print(paragraph)"
   ]
  }
 ],
 "metadata": {
  "kernelspec": {
   "display_name": "Python 3",
   "language": "python",
   "name": "python3"
  },
  "language_info": {
   "codemirror_mode": {
    "name": "ipython",
    "version": 3
   },
   "file_extension": ".py",
   "mimetype": "text/x-python",
   "name": "python",
   "nbconvert_exporter": "python",
   "pygments_lexer": "ipython3",
   "version": "3.12.1"
  }
 },
 "nbformat": 4,
 "nbformat_minor": 2
}
